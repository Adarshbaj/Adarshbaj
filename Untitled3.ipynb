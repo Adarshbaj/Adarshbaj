{
  "nbformat": 4,
  "nbformat_minor": 0,
  "metadata": {
    "colab": {
      "name": "Untitled3.ipynb",
      "provenance": [],
      "authorship_tag": "ABX9TyMg+z7BV2lkOJzOsj7kSBzQ",
      "include_colab_link": true
    },
    "kernelspec": {
      "name": "python3",
      "display_name": "Python 3"
    },
    "language_info": {
      "name": "python"
    }
  },
  "cells": [
    {
      "cell_type": "markdown",
      "metadata": {
        "id": "view-in-github",
        "colab_type": "text"
      },
      "source": [
        "<a href=\"https://colab.research.google.com/github/Adarshbaj/Adarshbaj/blob/main/Untitled3.ipynb\" target=\"_parent\"><img src=\"https://colab.research.google.com/assets/colab-badge.svg\" alt=\"Open In Colab\"/></a>"
      ]
    },
    {
      "cell_type": "code",
      "metadata": {
        "colab": {
          "base_uri": "https://localhost:8080/"
        },
        "id": "8ZeXcCFsHxke",
        "outputId": "38f7d6b0-f035-426d-e078-d367b986e37a"
      },
      "source": [
        "for x in range(5,0,-1):\n",
        "  for y in range(0,x):\n",
        "    print(x,end=\"\")\n",
        "  print()\n"
      ],
      "execution_count": 4,
      "outputs": [
        {
          "output_type": "stream",
          "text": [
            "55555\n",
            "4444\n",
            "333\n",
            "22\n",
            "1\n"
          ],
          "name": "stdout"
        }
      ]
    },
    {
      "cell_type": "code",
      "metadata": {
        "colab": {
          "base_uri": "https://localhost:8080/"
        },
        "id": "isZ5U12SIbHA",
        "outputId": "12b9c48a-931d-42bb-f0f6-67e233765c1a"
      },
      "source": [
        "for x in range(0,6):\n",
        "  for y in range(0,x):\n",
        "    print(x,end=\"\")\n",
        "  print()\n"
      ],
      "execution_count": 5,
      "outputs": [
        {
          "output_type": "stream",
          "text": [
            "\n",
            "1\n",
            "22\n",
            "333\n",
            "4444\n",
            "55555\n"
          ],
          "name": "stdout"
        }
      ]
    },
    {
      "cell_type": "code",
      "metadata": {
        "colab": {
          "base_uri": "https://localhost:8080/"
        },
        "id": "Y0YP3wwQIoh9",
        "outputId": "9c44c9f8-4abb-4a65-8257-2d76c4c90ded"
      },
      "source": [
        "for x in range(5,0,-1):\n",
        "  for y in range(0,x):\n",
        "    print(\" \",end=\"\")\n",
        "  for z in range(0,5):\n",
        "    print(\"x\",end=\"\")\n",
        "  print()\n"
      ],
      "execution_count": 7,
      "outputs": [
        {
          "output_type": "stream",
          "text": [
            "     xxxxx\n",
            "    xxxxx\n",
            "   xxxxx\n",
            "  xxxxx\n",
            " xxxxx\n"
          ],
          "name": "stdout"
        }
      ]
    },
    {
      "cell_type": "code",
      "metadata": {
        "colab": {
          "base_uri": "https://localhost:8080/"
        },
        "id": "DqWJD0YsJYqF",
        "outputId": "28a21d6f-7057-4c70-a4f2-869f54608886"
      },
      "source": [
        "for x in range(0,5):\n",
        "  for y in range(0,x):\n",
        "    print(\" \",end=\"\")\n",
        "  for z in range(0,5):\n",
        "    print(\"x\",end=\"\")\n",
        "  print()"
      ],
      "execution_count": 8,
      "outputs": [
        {
          "output_type": "stream",
          "text": [
            "xxxxx\n",
            " xxxxx\n",
            "  xxxxx\n",
            "   xxxxx\n",
            "    xxxxx\n"
          ],
          "name": "stdout"
        }
      ]
    },
    {
      "cell_type": "code",
      "metadata": {
        "colab": {
          "base_uri": "https://localhost:8080/"
        },
        "id": "fma_Nf1GKVpI",
        "outputId": "57fa887b-26d3-406b-d8ce-27ff98f91a88"
      },
      "source": [
        "for x in range(1,6):\n",
        "  for y in range(0,x):\n",
        "    print(\"x\",end=\" \")\n",
        "  print()"
      ],
      "execution_count": 10,
      "outputs": [
        {
          "output_type": "stream",
          "text": [
            "x \n",
            "x x \n",
            "x x x \n",
            "x x x x \n",
            "x x x x x \n"
          ],
          "name": "stdout"
        }
      ]
    },
    {
      "cell_type": "code",
      "metadata": {
        "colab": {
          "base_uri": "https://localhost:8080/"
        },
        "id": "P92I7LBLKveD",
        "outputId": "d29e8148-8ef2-40d2-fd4b-334a629de253"
      },
      "source": [
        "for x in range(1,7):\n",
        "  for y in range(1,x):\n",
        "    print(y,end=\" \")\n",
        "  print()\n"
      ],
      "execution_count": 15,
      "outputs": [
        {
          "output_type": "stream",
          "text": [
            "\n",
            "1 \n",
            "1 2 \n",
            "1 2 3 \n",
            "1 2 3 4 \n",
            "1 2 3 4 5 \n"
          ],
          "name": "stdout"
        }
      ]
    },
    {
      "cell_type": "code",
      "metadata": {
        "colab": {
          "base_uri": "https://localhost:8080/"
        },
        "id": "cQGOcoJcLYIN",
        "outputId": "776208c6-67e1-487c-e208-525ec70f2c52"
      },
      "source": [
        "for x in range(1,6):\n",
        "  for y in range(0,x):\n",
        "    print(x,end=\" \")\n",
        "  print()"
      ],
      "execution_count": 16,
      "outputs": [
        {
          "output_type": "stream",
          "text": [
            "1 \n",
            "2 2 \n",
            "3 3 3 \n",
            "4 4 4 4 \n",
            "5 5 5 5 5 \n"
          ],
          "name": "stdout"
        }
      ]
    },
    {
      "cell_type": "code",
      "metadata": {
        "colab": {
          "base_uri": "https://localhost:8080/"
        },
        "id": "cxFIJfFnLiWW",
        "outputId": "f26da37d-6fa8-4455-f83e-d26f56532397"
      },
      "source": [
        "for x in range(5,0,-1):\n",
        "  for y in range(0,x):\n",
        "    print(\"x\",end=\" \")\n",
        "  print()"
      ],
      "execution_count": 17,
      "outputs": [
        {
          "output_type": "stream",
          "text": [
            "x x x x x \n",
            "x x x x \n",
            "x x x \n",
            "x x \n",
            "x \n"
          ],
          "name": "stdout"
        }
      ]
    },
    {
      "cell_type": "code",
      "metadata": {
        "colab": {
          "base_uri": "https://localhost:8080/"
        },
        "id": "0ldTlNN-Lvty",
        "outputId": "192b36ce-b3f2-447f-a61b-42f8b5cef683"
      },
      "source": [
        "for x in range(5,0,-1):\n",
        "  for y in range(0,x):\n",
        "    print(x,end=\" \")\n",
        "  print()"
      ],
      "execution_count": 18,
      "outputs": [
        {
          "output_type": "stream",
          "text": [
            "5 5 5 5 5 \n",
            "4 4 4 4 \n",
            "3 3 3 \n",
            "2 2 \n",
            "1 \n"
          ],
          "name": "stdout"
        }
      ]
    },
    {
      "cell_type": "code",
      "metadata": {
        "colab": {
          "base_uri": "https://localhost:8080/"
        },
        "id": "Z_O6TYOPL6mS",
        "outputId": "740e2c67-c379-4195-98f4-20646d9b88bd"
      },
      "source": [
        "for x in range(0,5):\n",
        "  for y in range(5,x,-1):\n",
        "    print(y,end=\" \")\n",
        "  print()"
      ],
      "execution_count": 27,
      "outputs": [
        {
          "output_type": "stream",
          "text": [
            "5 4 3 2 1 \n",
            "5 4 3 2 \n",
            "5 4 3 \n",
            "5 4 \n",
            "5 \n"
          ],
          "name": "stdout"
        }
      ]
    },
    {
      "cell_type": "code",
      "metadata": {
        "colab": {
          "base_uri": "https://localhost:8080/"
        },
        "id": "Lm5JC0hbNVCR",
        "outputId": "c2919a0d-c22b-49cb-ea9e-7136a4d9504c"
      },
      "source": [
        "for x in range(1,6):\n",
        "  for y in range(6,x,-1):\n",
        "    print(x,end=\" \")\n",
        "  print()"
      ],
      "execution_count": 28,
      "outputs": [
        {
          "output_type": "stream",
          "text": [
            "1 1 1 1 1 \n",
            "2 2 2 2 \n",
            "3 3 3 \n",
            "4 4 \n",
            "5 \n"
          ],
          "name": "stdout"
        }
      ]
    },
    {
      "cell_type": "code",
      "metadata": {
        "colab": {
          "base_uri": "https://localhost:8080/"
        },
        "id": "oose2I2GNjDV",
        "outputId": "5a490bfb-95a9-46b8-8bd1-d8030f2a1ac8"
      },
      "source": [
        "for x in range(1,6):\n",
        "  for y in range(5,x,-1):\n",
        "    print(\"\",end=\" \")\n",
        "  for z in range(0,x):\n",
        "    print(\"x\",end=\"\")\n",
        "  print()"
      ],
      "execution_count": 32,
      "outputs": [
        {
          "output_type": "stream",
          "text": [
            "    x\n",
            "   xx\n",
            "  xxx\n",
            " xxxx\n",
            "xxxxx\n"
          ],
          "name": "stdout"
        }
      ]
    },
    {
      "cell_type": "code",
      "metadata": {
        "colab": {
          "base_uri": "https://localhost:8080/"
        },
        "id": "4lPoAPWMOFFh",
        "outputId": "04002a59-5542-4a54-a82d-b027158d1814"
      },
      "source": [
        "for x in range(0,6):\n",
        "  for y in range(5,x,-1):\n",
        "    print(\"\",end=\" \")\n",
        "  for z in range(1,2*x):\n",
        "    print(\"x\",end=\"\")\n",
        "  print()"
      ],
      "execution_count": 36,
      "outputs": [
        {
          "output_type": "stream",
          "text": [
            "     \n",
            "    x\n",
            "   xxx\n",
            "  xxxxx\n",
            " xxxxxxx\n",
            "xxxxxxxxx\n"
          ],
          "name": "stdout"
        }
      ]
    }
  ]
}